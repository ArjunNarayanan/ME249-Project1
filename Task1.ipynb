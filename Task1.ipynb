{
 "cells": [
  {
   "cell_type": "code",
   "execution_count": 2,
   "id": "contemporary-denver",
   "metadata": {},
   "outputs": [],
   "source": [
    "ydata =     [[44.1, 32.5, 0.098, 1.79, 5.5]]\n",
    "ydata.append([47.4, 33.2, 0.098, 1.79, 5.5])\n",
    "ydata.append([49.4, 34.2, 0.098, 1.79, 5.5])\n",
    "\n",
    "ydata.append([59.2, 34.8, 0.098, 1.79, 5.5]) \n",
    "ydata.append([67.8, 36.3, 0.098, 1.79, 5.5]) \n",
    "ydata.append([73.6, 37.3, 0.098, 1.79, 5.5])\n",
    "ydata.append([76.3, 37.8, 0.098, 1.79, 5.5]) \n",
    "ydata.append([85.3, 39.2, 0.098, 1.79, 5.5]) \n",
    "ydata.append([96.5, 39.3, 0.098, 1.79, 5.5])\n",
    "ydata.append([111., 42.3, 0.098, 1.79, 5.5]) \n",
    "ydata.append([124., 43.5, 0.098, 1.79, 5.5]) \n",
    "ydata.append([136.2, 45.4, 0.098, 1.79, 5.5])\n",
    "\n",
    "ydata.append([143.5, 46.7, 0.098, 1.79, 5.5]) \n",
    "ydata.append([154.6, 47.9, 0.098, 1.79, 5.5])\n",
    "ydata.append([163.1, 48.6, 0.098, 1.79, 5.5])\n",
    "ydata.append([172.8, 50.9, 0.098, 1.79, 5.5]) \n",
    "ydata.append([184.2, 51.7, 0.098, 1.79, 5.5]) \n",
    "ydata.append([203.7, 56.4, 0.098, 1.79, 5.5])  \n",
    "\n",
    "ydata.append([36.7, 30.2, 9.8, 1.79, 5.5])\n",
    "ydata.append([55.1, 34.1, 9.8, 1.79, 5.5])\n",
    "ydata.append([67.5, 35.3, 9.8, 1.79, 5.5])\n",
    "ydata.append([78.0, 37.8, 9.8, 1.79, 5.5])\n",
    "ydata.append([92.0, 38.1, 9.8, 1.79, 5.5])\n",
    "ydata.append([120., 44.1, 9.8, 1.79, 5.5])\n",
    "ydata.append([134.3, 46.9, 9.8, 1.79, 5.5])\n",
    "ydata.append([150.3, 48.5, 9.8, 1.79, 5.5])\n",
    "ydata.append([167., 49.2, 9.8, 1.79, 5.5])\n",
    "ydata.append([184., 52.7, 9.8, 1.79, 5.5])\n",
    "ydata.append([196.5, 53.1, 9.8, 1.79, 5.5])   \n",
    "\n",
    "ydata.append([42.4, 28.0, 19.6, 1.79, 9.5]) \n",
    "ydata.append([48.7, 29.3, 19.6, 1.79, 9.5]) \n",
    "ydata.append([54.5, 29.6, 19.6, 1.79, 9.5])\n",
    "ydata.append([62.1, 28.5, 19.6, 1.79, 9.5])\n",
    "ydata.append([70.8, 30.5, 19.6, 1.79, 9.5])\n",
    "ydata.append([73.7, 30.3, 19.6, 1.79, 9.5])\n",
    "ydata.append([81.8, 30.6, 19.6, 1.79, 9.5])\n",
    "ydata.append([91.9, 34.5, 19.6, 1.79, 9.5])\n",
    "ydata.append([103.9, 34.5, 19.6, 1.79, 9.5])\n",
    "ydata.append([119.1, 35.4, 19.6, 1.79, 9.5])\n",
    "ydata.append([133.7, 36.8, 19.6, 1.79, 9.5])\n",
    "ydata.append([139.9, 38.1, 19.6, 1.79, 9.5])\n",
    "ydata.append([148.3, 39.1, 19.6, 1.79, 9.5])\n",
    "ydata.append([157.0, 40.0, 19.6, 1.79, 9.5])\n",
    "ydata.append([169.1, 42.2, 19.6, 1.79, 9.5])\n",
    "ydata.append([179.2, 43.2, 19.6, 1.79, 9.5])\n",
    "ydata.append([205.0, 46.0, 19.6, 1.79, 9.5])  \n",
    "\n",
    "ydata.append([42.4, 29.7, 19.6, 1.79, 5.5])\n",
    "ydata.append([48.7, 31.0, 19.6, 1.79, 5.5])\n",
    "ydata.append([54.5, 31.2, 19.6, 1.79, 5.5])\n",
    "ydata.append([70.8, 32.4, 19.6, 1.79, 5.5])\n",
    "ydata.append([73.7, 31.4, 19.6, 1.79, 5.5])\n",
    "ydata.append([81.8, 32.5, 19.6, 1.79, 5.5])\n",
    "ydata.append([91.9, 36.3, 19.6, 1.79, 5.5])\n",
    "ydata.append([103.9, 36.3, 19.6, 1.79, 5.5])\n",
    "ydata.append([119.1, 37.2, 19.6, 1.79, 5.5])\n",
    "ydata.append([133.7, 38.4, 19.6, 1.79, 5.5])\n",
    "ydata.append([139.9, 39.7, 19.6, 1.79, 5.5])\n",
    "ydata.append([148.3, 40.9, 19.6, 1.79, 5.5])\n",
    "ydata.append([157.0, 41.6, 19.6, 1.79, 5.5])\n",
    "ydata.append([169.1, 43.9, 19.6, 1.79, 5.5])\n",
    "ydata.append([179.2, 45.0, 19.6, 1.79, 5.5])\n",
    "ydata.append([205.0, 47.9, 19.6, 1.79, 5.5])   \n",
    "\n",
    "ydata.append([77.0, 41.5, 9.8, 0.00, 7.0])  \n",
    "ydata.append([71.0, 40.5, 9.8, 0.00, 7.0])\n",
    "ydata.append([66.0, 39.5, 9.8, 0.00, 7.0])\n",
    "ydata.append([62.0, 38.5, 9.8, 0.00, 7.0])\n",
    "ydata.append([42.0, 34.0, 9.8, 0.00, 7.0])\n",
    "ydata.append([60.0, 37.5, 9.8, 0.00, 7.0])\n",
    "ydata.append([53.0, 37.0, 9.8, 0.00, 7.0])    \n",
    "\n",
    "ydata.append([71.7, 36.4, 0.098, 1.71, 5.5])  \n",
    "ydata.append([81.5, 38.5, 0.098, 1.71, 5.5])\n",
    "ydata.append([90.7, 39.5, 0.098, 1.71, 5.5])\n",
    "ydata.append([103.3, 41.6, 0.098, 1.71, 5.5])\n",
    "ydata.append([117.0, 43.1, 0.098, 1.71, 5.5])\n",
    "ydata.append([138.6, 45.4, 0.098, 1.71, 5.5])\n",
    "ydata.append([161.7, 47.9, 0.098, 1.71, 5.5])\n",
    "ydata.append([207.5, 50.9, 0.098, 1.71, 5.5])    "
   ]
  },
  {
   "cell_type": "code",
   "execution_count": 3,
   "id": "nervous-greensboro",
   "metadata": {},
   "outputs": [],
   "source": [
    "import numpy as np\n",
    "ydata = np.array(ydata)\n",
    "\n",
    "ydata = ydata[np.argsort(ydata[:,1])]\n",
    "\n",
    "idx_normal_gravity_55_pressure = np.where((ydata[:,[2,4]] == [9.8,5.5]).all(axis=1))[0]\n",
    "idx_micro_gravity_55_pressure = np.where((ydata[:,[2,4]] == (0.098,5.5)).all(axis=1))[0]\n",
    "\n",
    "normal_heatflux = ydata[idx_normal_gravity_55_pressure,0]\n",
    "normal_superheat = ydata[idx_normal_gravity_55_pressure,1]\n",
    "\n",
    "micro_heatflux = ydata[idx_micro_gravity_55_pressure,0]\n",
    "micro_superheat = ydata[idx_micro_gravity_55_pressure,1]"
   ]
  },
  {
   "cell_type": "code",
   "execution_count": 7,
   "id": "veterinary-french",
   "metadata": {},
   "outputs": [
    {
     "data": {
      "image/png": "[encoded data removed]",
      "text/plain": [
       "<Figure size 432x288 with 1 Axes>"
      ]
     },
     "metadata": {
      "needs_background": "light"
     },
     "output_type": "display_data"
    }
   ],
   "source": [
    "import matplotlib.pyplot as plt\n",
    "fig,ax = plt.subplots()\n",
    "ax.loglog(normal_superheat,normal_heatflux,label=\"g = 9.8 m/s^2\")\n",
    "ax.loglog(micro_superheat,micro_heatflux,label=\"g = 0.098 m/s^2\")\n",
    "ax.legend()\n",
    "ax.set_xlabel(\"Wall superheat (deg. C)\")\n",
    "ax.set_ylabel(\"Heat flux (W/cm^2\")\n",
    "ax.grid()\n",
    "fig.tight_layout()\n",
    "fig.savefig(\"Heatflux_vs_superheat_task1.png\")"
   ]
  },
  {
   "cell_type": "code",
   "execution_count": null,
   "id": "demanding-seattle",
   "metadata": {},
   "outputs": [],
   "source": []
  }
 ],
 "metadata": {
  "kernelspec": {
   "display_name": "Python 3",
   "language": "python",
   "name": "python3"
  },
  "language_info": {
   "codemirror_mode": {
    "name": "ipython",
    "version": 3
   },
   "file_extension": ".py",
   "mimetype": "text/x-python",
   "name": "python",
   "nbconvert_exporter": "python",
   "pygments_lexer": "ipython3",
   "version": "3.6.12"
  }
 },
 "nbformat": 4,
 "nbformat_minor": 5
}
